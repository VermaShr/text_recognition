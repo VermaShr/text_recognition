{
 "cells": [
  {
   "cell_type": "markdown",
   "metadata": {},
   "source": [
    "Original repo: https://github.com/solivr/tf-crnn"
   ]
  },
  {
   "cell_type": "code",
   "execution_count": 1,
   "metadata": {
    "collapsed": true
   },
   "outputs": [],
   "source": [
    "# get the details to make all images the same size\n",
    "import os\n",
    "import warnings\n",
    "import numpy as np\n",
    "from skimage import io as skimio\n",
    "from skimage import color as skimcolor\n",
    "import skimage.transform as skimtrans\n",
    "import matplotlib.pyplot as plt\n",
    "\n",
    "local_path = \"/home/danny/Repos/text_recognition/tf-crnn-master/\"\n",
    "img_dir_old = \"data/Images/\"\n",
    "img_dir_new = \"data/Images_mod/\"\n",
    "trans_dir = \"data/Transcriptions/\"\n",
    "\n",
    "filenames = [f.replace(\".txt\", \"\") for f in os.listdir(trans_dir)]"
   ]
  },
  {
   "cell_type": "code",
   "execution_count": null,
   "metadata": {},
   "outputs": [],
   "source": [
    "sizes = []\n",
    "count = 0\n",
    "for fn in filenames:\n",
    "    im = skimio.imread(img_dir_old + fn + \".png\")\n",
    "    sizes.append(im.shape)\n",
    "    if count % 1000 == 0: print(count, end = \"\\t\")\n",
    "    count += 1"
   ]
  },
  {
   "cell_type": "code",
   "execution_count": null,
   "metadata": {
    "scrolled": true
   },
   "outputs": [],
   "source": [
    "heights = [s[0] for s in sizes]\n",
    "widths = [s[1] for s in sizes]\n",
    "max_height = np.max(heights)\n",
    "max_width = np.max(widths)\n",
    "print(max_height, max_width)\n",
    "med_height = np.median(heights)\n",
    "med_width = np.median(widths)\n",
    "print(med_height, med_width)"
   ]
  },
  {
   "cell_type": "code",
   "execution_count": null,
   "metadata": {
    "collapsed": true
   },
   "outputs": [],
   "source": [
    "with open(\"data/Partitions/TrainLines.lst\") as f:\n",
    "    training = f.read().splitlines()\n",
    "\n",
    "with open(\"data/Partitions/ValidationLines.lst\") as f:\n",
    "    validation = f.read().splitlines()\n",
    "\n",
    "with open(\"data/Partitions/TestLines.lst\") as f:\n",
    "    test = f.read().splitlines()"
   ]
  },
  {
   "cell_type": "code",
   "execution_count": null,
   "metadata": {
    "collapsed": true
   },
   "outputs": [],
   "source": [
    "# read the image file\n",
    "def readBenthamImg(fn, ftype=\".png\", img_dir_new=img_dir_new,\n",
    "                   img_dir_old=img_dir_old, goal_size = (med_height, med_width)):\n",
    "    im = skimio.imread(img_dir_old + fn + ftype)\n",
    "    # turn all transparent pixels to background (average)\n",
    "    rep_val = max(np.median(im[:,:,0]), np.mean(im[:,:,0]))\n",
    "    im[im[:,:,3] == 0] = [rep_val, rep_val, rep_val, 255]\n",
    "    im = skimcolor.rgb2gray(im)*255\n",
    "\n",
    "    # make all images the same size\n",
    "    size = im.shape\n",
    "    if int(1.0*goal_size[1]/size[1]*size[0]) < goal_size[0]:\n",
    "        new_size = (round(1.0*goal_size[1]/size[1]*size[0]), goal_size[1])\n",
    "        pad_size = ((0, int(goal_size[0] - new_size[0])), (0,0))\n",
    "    elif int(1.0*goal_size[0]/size[0]*size[1]) < goal_size[1]:\n",
    "        new_size = (goal_size[0], round(1.0*goal_size[0]/size[0]*size[1]))\n",
    "        pad_size = ((0,0), (0, int(goal_size[1] - new_size[1])))\n",
    "    elif all(np.equal(size, goal_size)):\n",
    "        new_size = goal_size\n",
    "        pad_size = ((0,0), (0,0))\n",
    "    # resize and pad based on previous calculation\n",
    "    im = skimtrans.resize(im, new_size, mode=\"constant\")\n",
    "    im = np.pad(im, pad_size, mode=\"constant\", constant_values=rep_val)\n",
    "    im = im.astype(\"int\")\n",
    "    \n",
    "    with warnings.catch_warnings():\n",
    "        warnings.simplefilter(\"ignore\")\n",
    "        skimio.imsave(img_dir_new + fn + ftype, im)\n",
    "    return img_dir_new + fn + ftype"
   ]
  },
  {
   "cell_type": "code",
   "execution_count": 2,
   "metadata": {},
   "outputs": [],
   "source": [
    "# read the transcription\n",
    "def readBenthamTrans(fn, ftype=\".txt\", trans_dir=trans_dir):\n",
    "    with open(trans_dir + fn + ftype, \"r\") as f:\n",
    "        trans = f.readline()\n",
    "        trans = trans.replace(\"\\n\", \"\")\n",
    "    return trans"
   ]
  },
  {
   "cell_type": "code",
   "execution_count": null,
   "metadata": {},
   "outputs": [],
   "source": [
    "count = 0\n",
    "with open(\"data/train.csv\", \"w\") as f_tr, open(\"data/valid.csv\", \"w\") as f_va, open(\"data/test.csv\", \"w\") as f_te:\n",
    "    for fn in filenames:\n",
    "        new_fn = readBenthamImg(fn)\n",
    "        trans = readBenthamTrans(fn)\n",
    "        if fn in training:\n",
    "            f_tr.write(\"{0};{1}\\n\".format(new_fn, trans))\n",
    "        elif fn in validation:\n",
    "            f_va.write(\"{0};{1}\\n\".format(new_fn, trans))\n",
    "        elif fn in test:\n",
    "            f_te.write(\"{0};{1}\\n\".format(new_fn, trans))\n",
    "        if count % 1000 == 0: print(count, end = \"\\t\")\n",
    "        count += 1"
   ]
  },
  {
   "cell_type": "code",
   "execution_count": 3,
   "metadata": {},
   "outputs": [
    {
     "name": "stdout",
     "output_type": "stream",
     "text": [
      "0\t1000\t2000\t3000\t4000\t5000\t6000\t7000\t8000\t9000\t10000\t11000\t\n",
      " !\"#&'()*+,-./0123456789:;<=>?ABCDEFGHIJKLMNOPQRSTUVWXY[]_abcdefghijklmnopqrstuvwxyz|£§àâèéê⊥\n",
      "93 88\n",
      " !\"#&'()*+,-./0123456789:;<=>?ABCDEFGHIJKLMNOPQRSTUVWXY[]_abcdefghijklmnopqrstuvwxyz|£§ê\n"
     ]
    }
   ],
   "source": [
    "# get the alphabet\n",
    "count = 0\n",
    "alphabet = dict()\n",
    "for fn in filenames:\n",
    "    trans = readBenthamTrans(fn)\n",
    "    for l in list(trans):\n",
    "        if l not in alphabet:\n",
    "            alphabet[l] = 0\n",
    "        alphabet[l] += 1\n",
    "#     t2 = list(trans)\n",
    "#     alphabet.update(t2)\n",
    "    if count % 1000 == 0: print(count, end=\"\\t\")\n",
    "    count += 1\n",
    "\n",
    "print()\n",
    "alpha_string1 = \"\".join(np.sort(list(alphabet)))\n",
    "print(alpha_string1)\n",
    "alphabet2 = {k for k, v in alphabet.items() if v > 1}\n",
    "print(len(alphabet), len(alphabet2))\n",
    "\n",
    "alpha_string = \"\".join(np.sort(list(alphabet2)))\n",
    "print(alpha_string)\n",
    "\n",
    "with open(\"data/alphabet.txt\", \"w\") as f:\n",
    "    f.write(alpha_string)"
   ]
  },
  {
   "cell_type": "markdown",
   "metadata": {},
   "source": [
    "### Redo csv files"
   ]
  },
  {
   "cell_type": "code",
   "execution_count": null,
   "metadata": {
    "collapsed": true
   },
   "outputs": [],
   "source": [
    "with open(\"data/Partitions/TrainLines.lst\") as f:\n",
    "    training = f.read().splitlines()\n",
    "\n",
    "with open(\"data/Partitions/ValidationLines.lst\") as f:\n",
    "    validation = f.read().splitlines()\n",
    "\n",
    "with open(\"data/Partitions/TestLines.lst\") as f:\n",
    "    test = f.read().splitlines()\n",
    "\n",
    "local_path = \"/home/danny/Repos/text_recognition/tf-crnn-master/\"\n",
    "count = 0\n",
    "with open(\"data/train.csv\", \"w\") as f_tr, open(\"data/valid.csv\", \"w\") as f_va, open(\"data/test.csv\", \"w\") as f_te:\n",
    "    for fn in filenames:\n",
    "        new_fn = local_path + img_dir_new + fn + \".png\"\n",
    "        trans = readBenthamTrans(fn)\n",
    "        trans = trans.replace('\"', '\"\"')\n",
    "        if fn in training:\n",
    "            f_tr.write(\"{0}\\t\\\"{1}\\\"\\n\".format(new_fn, trans))\n",
    "        elif fn in validation:\n",
    "            f_va.write(\"{0}\\t\\\"{1}\\\"\\n\".format(new_fn, trans))\n",
    "        elif fn in test:\n",
    "            f_te.write(\"{0}\\t\\\"{1}\\\"\\n\".format(new_fn, trans))"
   ]
  },
  {
   "cell_type": "code",
   "execution_count": null,
   "metadata": {},
   "outputs": [],
   "source": [
    "trans = 'this is my \"home\" you kids, you'\n",
    "trans.replace('\"', '\\\\\"')"
   ]
  },
  {
   "cell_type": "markdown",
   "metadata": {},
   "source": [
    "## In case I need to edit read fn again"
   ]
  },
  {
   "cell_type": "code",
   "execution_count": null,
   "metadata": {},
   "outputs": [],
   "source": [
    "fn = filenames[2930]\n",
    "ftype=\".png\"\n",
    "img_dir_new=img_dir_new\n",
    "img_dir_old=img_dir_old\n",
    "wpad=max_width\n",
    "hpad=max_height\n",
    "goal_size = (med_height, med_width)\n",
    "\n",
    "im = skimio.imread(img_dir_old + fn + ftype)\n",
    "# turn all transparent pixels to background (average)\n",
    "rep_val = max(np.median(im[:,:,0]), np.mean(im[:,:,0]))\n",
    "im[im[:,:,3] == 0] = [rep_val, rep_val, rep_val, 255]\n",
    "im = skimcolor.rgb2gray(im)*255\n",
    "\n",
    "# make all images the same size\n",
    "size = im.shape\n",
    "if int(1.0*goal_size[1]/size[1]*size[0]) < goal_size[0]:\n",
    "    new_size = (round(1.0*goal_size[1]/size[1]*size[0]), goal_size[1])\n",
    "    pad_size = ((0, int(goal_size[0] - new_size[0])), (0,0))\n",
    "elif int(1.0*goal_size[0]/size[0]*size[1]) < goal_size[1]:\n",
    "    new_size = (goal_size[0], round(1.0*goal_size[0]/size[0]*size[1]))\n",
    "    pad_size = ((0,0), (0, int(goal_size[1] - new_size[1])))\n",
    "elif all(np.equal(size, goal_size)):\n",
    "    new_size = goal_size\n",
    "    pad_size = ((0,0), (0,0))\n",
    "# resize and pad based on previous calculation\n",
    "im2 = skimtrans.resize(im, new_size, mode=\"constant\")\n",
    "print(size)\n",
    "print(new_size)\n",
    "print(pad_size)\n",
    "print(goal_size)\n",
    "im3 = np.pad(im2, pad_size, mode=\"constant\", constant_values=rep_val).astype(\"int\")\n",
    "\n",
    "plt.imshow(im, cmap=\"gray\"); plt.show()\n",
    "plt.imshow(im2, cmap=\"gray\"); plt.show()\n",
    "plt.imshow(im3, cmap=\"gray\"); plt.show()\n",
    "\n",
    "print(size)\n",
    "print(new_size)\n",
    "print(pad_size)\n",
    "print(goal_size)\n",
    "print(im3.shape)\n",
    "# im3.astype(\"int\")\n",
    "# skimio.imsave(img_dir_new + fn + ftype, im)\n",
    "# return img_dir_new + fn + ftype"
   ]
  }
 ],
 "metadata": {
  "kernelspec": {
   "display_name": "Python 3",
   "language": "python",
   "name": "python3"
  },
  "language_info": {
   "codemirror_mode": {
    "name": "ipython",
    "version": 3
   },
   "file_extension": ".py",
   "mimetype": "text/x-python",
   "name": "python",
   "nbconvert_exporter": "python",
   "pygments_lexer": "ipython3",
   "version": "3.6.3"
  }
 },
 "nbformat": 4,
 "nbformat_minor": 2
}
